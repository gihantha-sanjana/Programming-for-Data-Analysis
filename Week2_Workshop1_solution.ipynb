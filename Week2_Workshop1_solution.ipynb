{
  "nbformat": 4,
  "nbformat_minor": 0,
  "metadata": {
    "colab": {
      "provenance": [],
      "include_colab_link": true
    },
    "kernelspec": {
      "name": "python3",
      "display_name": "Python 3"
    },
    "language_info": {
      "name": "python"
    }
  },
  "cells": [
    {
      "cell_type": "markdown",
      "metadata": {
        "id": "view-in-github",
        "colab_type": "text"
      },
      "source": [
        "<a href=\"https://colab.research.google.com/github/gihantha-sanjana/Programming-for-Data-Analysis/blob/main/Week2_Workshop1_solution.ipynb\" target=\"_parent\"><img src=\"https://colab.research.google.com/assets/colab-badge.svg\" alt=\"Open In Colab\"/></a>"
      ]
    },
    {
      "cell_type": "markdown",
      "metadata": {
        "id": "U5xoneOIeUkp"
      },
      "source": [
        "Python is dynamically-typed: variable names can point to objects of any type.\n",
        "\n",
        "This happens as variables are in fact pointers to objects. While objects have a specific type, variables can point to objects of any type. Below, we create a variable <code>x</code> and assign it (i.e., make it point) to an integer object with value 10. After that, we re-assign variable <code>x</code> so that it points to a string object."
      ]
    },
    {
      "cell_type": "code",
      "execution_count": null,
      "metadata": {
        "id": "NO6-rbSleUkq"
      },
      "outputs": [],
      "source": [
        "x = 10\n",
        "x = 'hello'\n",
        "x = \"hello to show no differences between quote and double quote\""
      ]
    },
    {
      "cell_type": "markdown",
      "metadata": {
        "id": "zuhYCAtUInph"
      },
      "source": [
        "**Q1 : Can you concatenate the strings <code>a</code>, <code>b</code> and <code>c</code>?**"
      ]
    },
    {
      "cell_type": "code",
      "execution_count": null,
      "metadata": {
        "id": "96dWCe2aInp1"
      },
      "outputs": [],
      "source": [
        "a = \"Name name is\"\n",
        "b = \" R2D2\"\n",
        "c = \".\""
      ]
    },
    {
      "cell_type": "code",
      "execution_count": null,
      "metadata": {
        "id": "O4r-YZxNInp2"
      },
      "outputs": [],
      "source": [
        "#Solution to Q1\n",
        "a + b + c"
      ]
    },
    {
      "cell_type": "markdown",
      "metadata": {
        "id": "I8SbJx54eUkq"
      },
      "source": [
        "**Q2: Can you generete a string equal to x but with all characters in upper case?**\n",
        "\n",
        "*Remember how to use Tab to auto-complete and check methods available to strings with x.*"
      ]
    },
    {
      "cell_type": "code",
      "execution_count": null,
      "metadata": {
        "id": "pSRDXSSgeUkq"
      },
      "outputs": [],
      "source": [
        "# Solution to Q2\n",
        "#Define the string\n",
        "x = \"hello to show no differences between quote and double quote\"\n",
        "\n",
        "# Split the string into words\n",
        "words = x.upper()\n",
        "\n",
        "# Print the resulting list of words\n",
        "print(words)"
      ]
    },
    {
      "cell_type": "markdown",
      "metadata": {
        "id": "AXt4TRS2eUkr"
      },
      "source": [
        "**Q3: Can you split string x given words separated by spaces?**"
      ]
    },
    {
      "cell_type": "code",
      "execution_count": null,
      "metadata": {
        "id": "35_tu6cDeUkr",
        "colab": {
          "base_uri": "https://localhost:8080/"
        },
        "outputId": "e47e4267-62f0-43a7-ca6e-15ee87edc6be"
      },
      "outputs": [
        {
          "output_type": "stream",
          "name": "stdout",
          "text": [
            "['hello', 'to', 'show', 'no', 'differences', 'between', 'quote', 'and', 'double', 'quote']\n"
          ]
        }
      ],
      "source": [
        "# Solution to Q3\n",
        "#Define the string\n",
        "x = \"hello to show no differences between quote and double quote\"\n",
        "\n",
        "# Split the string into words\n",
        "words = x.split()\n",
        "\n",
        "# Print the resulting list of words\n",
        "print(words)"
      ]
    },
    {
      "cell_type": "markdown",
      "metadata": {
        "id": "HtBT0wHeeUks"
      },
      "source": [
        "**Q4: Can you repeat string <code>b</code> 10 times using a maximum of 3 characters?**"
      ]
    },
    {
      "cell_type": "code",
      "execution_count": null,
      "metadata": {
        "id": "hv5hFKLweUks",
        "colab": {
          "base_uri": "https://localhost:8080/"
        },
        "outputId": "617db812-71f9-4817-a4d0-ad8955b45e9b"
      },
      "outputs": [
        {
          "output_type": "stream",
          "name": "stdout",
          "text": [
            "CMP7005CMP7005CMP7005CMP7005CMP7005CMP7005CMP7005CMP7005CMP7005CMP7005\n"
          ]
        }
      ],
      "source": [
        "# Solution to Q4\n",
        "b = 'CMP7005'\n",
        "result = b * 10\n",
        "print(result)\n"
      ]
    },
    {
      "cell_type": "markdown",
      "metadata": {
        "id": "9YWB774EeUki"
      },
      "source": [
        "<h1><center> Part I: Lists </center></h1>"
      ]
    },
    {
      "cell_type": "code",
      "execution_count": null,
      "metadata": {
        "id": "wS2T0i3NeUkx",
        "outputId": "18cf9091-6aeb-43d1-ebc3-2e4b21613669"
      },
      "outputs": [
        {
          "data": {
            "text/plain": [
              "'kiwi'"
            ]
          },
          "execution_count": 1,
          "metadata": {},
          "output_type": "execute_result"
        }
      ],
      "source": [
        "fruits = ['orange', 'apple', 'pear', 'banana', 'kiwi', 'apple', 'banana']\n",
        "fruits[4]"
      ]
    },
    {
      "cell_type": "code",
      "execution_count": null,
      "metadata": {
        "id": "YVdHS1JneUky",
        "outputId": "f7cec49e-5117-4744-cceb-62af2a68c4ba"
      },
      "outputs": [
        {
          "data": {
            "text/plain": [
              "['pear', 'banana', 'kiwi']"
            ]
          },
          "execution_count": 2,
          "metadata": {},
          "output_type": "execute_result"
        }
      ],
      "source": [
        "fruits[2:5]"
      ]
    },
    {
      "cell_type": "code",
      "execution_count": null,
      "metadata": {
        "id": "PZvpRbuTeUky",
        "outputId": "0e9139b8-74fa-451e-e3f3-ce1e13da1943"
      },
      "outputs": [
        {
          "data": {
            "text/plain": [
              "2"
            ]
          },
          "execution_count": 3,
          "metadata": {},
          "output_type": "execute_result"
        }
      ],
      "source": [
        "fruits.count('apple')"
      ]
    },
    {
      "cell_type": "code",
      "execution_count": null,
      "metadata": {
        "id": "2iVKkFn9eUky",
        "outputId": "1f9ded4e-9c21-48c3-8f6e-62d7a49fe5b0"
      },
      "outputs": [
        {
          "data": {
            "text/plain": [
              "3"
            ]
          },
          "execution_count": 4,
          "metadata": {},
          "output_type": "execute_result"
        }
      ],
      "source": [
        "fruits.index('banana')"
      ]
    },
    {
      "cell_type": "code",
      "execution_count": null,
      "metadata": {
        "id": "lwOU5fUmeUkz",
        "outputId": "ee7427dc-4af8-4706-f3e3-72cfbc0770f1"
      },
      "outputs": [
        {
          "data": {
            "text/plain": [
              "True"
            ]
          },
          "execution_count": 5,
          "metadata": {},
          "output_type": "execute_result"
        }
      ],
      "source": [
        "'apple' in fruits"
      ]
    },
    {
      "cell_type": "code",
      "execution_count": null,
      "metadata": {
        "id": "_hBwXr0GeUkz",
        "outputId": "f42d46b1-9dad-4b87-d1ed-27a064bd9ed4"
      },
      "outputs": [
        {
          "data": {
            "text/plain": [
              "['apple', 'apple', 'banana', 'banana', 'kiwi', 'orange', 'pear']"
            ]
          },
          "execution_count": 6,
          "metadata": {},
          "output_type": "execute_result"
        }
      ],
      "source": [
        "fruits.sort()\n",
        "fruits"
      ]
    },
    {
      "cell_type": "code",
      "execution_count": null,
      "metadata": {
        "id": "bM9TLmi5eUk0",
        "outputId": "07e68020-ad7c-4aae-fbf7-5e938ff82815"
      },
      "outputs": [
        {
          "data": {
            "text/plain": [
              "7"
            ]
          },
          "execution_count": 7,
          "metadata": {},
          "output_type": "execute_result"
        }
      ],
      "source": [
        "len(fruits)"
      ]
    },
    {
      "cell_type": "code",
      "execution_count": null,
      "metadata": {
        "id": "g4Wti-8leUk0",
        "outputId": "2c627444-6977-4bb6-f634-af54804649b0"
      },
      "outputs": [
        {
          "data": {
            "text/plain": [
              "['apple', 'apple', 'banana', 'banana', 'kiwi', 'orange', 'pear', 100]"
            ]
          },
          "execution_count": 8,
          "metadata": {},
          "output_type": "execute_result"
        }
      ],
      "source": [
        "fruits += [100]\n",
        "fruits"
      ]
    },
    {
      "cell_type": "markdown",
      "metadata": {
        "id": "KW3e6-ApeUk0"
      },
      "source": [
        "**Can you work out how to insert a new object ('strawberry') in the middle of the above list?**"
      ]
    },
    {
      "cell_type": "code",
      "execution_count": null,
      "metadata": {
        "id": "ZHJQXUGpeUk0",
        "outputId": "73c91b3d-f41e-4dd3-c004-be79bad9a417"
      },
      "outputs": [
        {
          "data": {
            "text/plain": [
              "['apple',\n",
              " 'apple',\n",
              " 'banana',\n",
              " 'strawberry',\n",
              " 'banana',\n",
              " 'kiwi',\n",
              " 'orange',\n",
              " 'pear',\n",
              " 100]"
            ]
          },
          "execution_count": 9,
          "metadata": {},
          "output_type": "execute_result"
        }
      ],
      "source": [
        "# Solution to Q1\n",
        "fruits.insert(3, 'strawberry')\n",
        "fruits"
      ]
    },
    {
      "cell_type": "markdown",
      "metadata": {
        "id": "bJqv57XeeUk2"
      },
      "source": [
        "**Q2: Indexing: Can you write code to select elements of x from the 3rd to the second-last element (inclusive)?**"
      ]
    },
    {
      "cell_type": "code",
      "execution_count": null,
      "metadata": {
        "id": "IK8rEplWeUk2",
        "colab": {
          "base_uri": "https://localhost:8080/"
        },
        "outputId": "06a0f5a5-7146-41fd-aa0c-f663127a100c"
      },
      "outputs": [
        {
          "output_type": "execute_result",
          "data": {
            "text/plain": [
              "[3, 4, 5, 6, 7]"
            ]
          },
          "metadata": {},
          "execution_count": 5
        }
      ],
      "source": [
        "# Solution to Q2:\n",
        "x = [1, 2, 3, 4, 5, 6, 7, 8] # say x is the given list\n",
        "x[2:-1]\n"
      ]
    },
    {
      "cell_type": "code",
      "source": [
        "x[2:7]"
      ],
      "metadata": {
        "colab": {
          "base_uri": "https://localhost:8080/"
        },
        "id": "ZFIU6uHY8Joh",
        "outputId": "560213cf-7c1b-4517-efb7-a5e9420a1a30"
      },
      "execution_count": null,
      "outputs": [
        {
          "output_type": "execute_result",
          "data": {
            "text/plain": [
              "[3, 4, 5, 6, 7]"
            ]
          },
          "metadata": {},
          "execution_count": 6
        }
      ]
    },
    {
      "cell_type": "markdown",
      "metadata": {
        "id": "lzSzBNX9eUk3"
      },
      "source": [
        "**Q3: Indexing: Can you write code to select elements of x in even positions (0, 2, 4, 6 ...)?**"
      ]
    },
    {
      "cell_type": "code",
      "execution_count": null,
      "metadata": {
        "id": "ryfr8nnLeUk3",
        "colab": {
          "base_uri": "https://localhost:8080/"
        },
        "outputId": "3c049e12-62b5-4495-b675-4b9f1ab2d246"
      },
      "outputs": [
        {
          "output_type": "execute_result",
          "data": {
            "text/plain": [
              "[1, 3, 5, 7]"
            ]
          },
          "metadata": {},
          "execution_count": 12
        }
      ],
      "source": [
        "# Solution to Q3:\n",
        "x = [1, 2, 3, 4, 5, 6, 7, 8] # say x is the given list\n",
        "x[::2]"
      ]
    },
    {
      "cell_type": "code",
      "source": [
        "x[0:7:2]"
      ],
      "metadata": {
        "colab": {
          "base_uri": "https://localhost:8080/"
        },
        "id": "l0MahrON83ul",
        "outputId": "cef9da22-391f-447f-bd0b-35cf0dfe172e"
      },
      "execution_count": null,
      "outputs": [
        {
          "output_type": "execute_result",
          "data": {
            "text/plain": [
              "[1, 3, 5, 7]"
            ]
          },
          "metadata": {},
          "execution_count": 15
        }
      ]
    },
    {
      "cell_type": "code",
      "source": [
        "x[1:9:2] # finding even numbers in the list"
      ],
      "metadata": {
        "colab": {
          "base_uri": "https://localhost:8080/"
        },
        "id": "0NGgYZn796Np",
        "outputId": "136ff11d-71c4-46e9-bc91-ef6e74794e2d"
      },
      "execution_count": null,
      "outputs": [
        {
          "output_type": "execute_result",
          "data": {
            "text/plain": [
              "[2, 4, 6, 8]"
            ]
          },
          "metadata": {},
          "execution_count": 19
        }
      ]
    },
    {
      "cell_type": "markdown",
      "metadata": {
        "id": "lCFIDSoAeUk3"
      },
      "source": [
        "**Q4: Indexing: Can you write code to select elements of x in odd positions (1, 3, 5...) in reverse order?**"
      ]
    },
    {
      "cell_type": "code",
      "execution_count": null,
      "metadata": {
        "id": "BmiHg-vMeUk3",
        "colab": {
          "base_uri": "https://localhost:8080/"
        },
        "outputId": "383386ff-6c97-41a4-a23b-112f23123b3d"
      },
      "outputs": [
        {
          "output_type": "execute_result",
          "data": {
            "text/plain": [
              "[8, 6, 4, 2]"
            ]
          },
          "metadata": {},
          "execution_count": 22
        }
      ],
      "source": [
        "# Solution to Q4:\n",
        "x = [1, 2, 3, 4, 5, 6, 7, 8] # say x is the given list\n",
        "x[-1:-8:-2]\n"
      ]
    },
    {
      "cell_type": "code",
      "source": [
        "x[::-2]"
      ],
      "metadata": {
        "colab": {
          "base_uri": "https://localhost:8080/"
        },
        "id": "iAz46PHT8y3J",
        "outputId": "d274751e-d08a-4ffc-c3f8-c5486a0990a9"
      },
      "execution_count": null,
      "outputs": [
        {
          "output_type": "execute_result",
          "data": {
            "text/plain": [
              "[8, 6, 4, 2]"
            ]
          },
          "metadata": {},
          "execution_count": 9
        }
      ]
    },
    {
      "cell_type": "code",
      "source": [
        "x[-2:-9:-2] # finding the odd numbers in the list"
      ],
      "metadata": {
        "colab": {
          "base_uri": "https://localhost:8080/"
        },
        "id": "riHDoGg1-Oov",
        "outputId": "49e5077d-5c7c-45f4-e645-4706dc9d4e95"
      },
      "execution_count": null,
      "outputs": [
        {
          "output_type": "execute_result",
          "data": {
            "text/plain": [
              "[7, 5, 3, 1]"
            ]
          },
          "metadata": {},
          "execution_count": 26
        }
      ]
    },
    {
      "cell_type": "markdown",
      "metadata": {
        "id": "pgI59LIieUk2"
      },
      "source": [
        "**Q5: Write code that prints 'a not contained in x' if <code>a</code> is not contained in <code>x</code>.**"
      ]
    },
    {
      "cell_type": "code",
      "execution_count": null,
      "metadata": {
        "id": "bZAZCM2keUk1"
      },
      "outputs": [],
      "source": [
        "#Given the following list\n",
        "x = [1, 2, 3, 4, 5, 6, 7, 8]\n",
        "a = 6.2"
      ]
    },
    {
      "cell_type": "code",
      "execution_count": null,
      "metadata": {
        "id": "VYfllHWzeUk2",
        "outputId": "15b3243b-24f7-41db-8442-d7c3d7c26708"
      },
      "outputs": [
        {
          "name": "stdout",
          "output_type": "stream",
          "text": [
            "a not contained in x\n"
          ]
        }
      ],
      "source": [
        "# Solution to Q5:\n",
        "\n",
        "if a not in x:\n",
        "    print('a not contained in x')"
      ]
    },
    {
      "cell_type": "markdown",
      "metadata": {
        "id": "xq3gMli_eUk3"
      },
      "source": [
        "<h2><center> Tuple </center></h2>\n",
        "\n",
        "Ordered and **immutable** collection. Values within (square brackets) and comma-separated."
      ]
    },
    {
      "cell_type": "code",
      "execution_count": null,
      "metadata": {
        "id": "zk92dd9TeUk3",
        "outputId": "53646072-18c5-482c-daa3-566bd8264673"
      },
      "outputs": [
        {
          "ename": "TypeError",
          "evalue": "'tuple' object does not support item assignment",
          "output_type": "error",
          "traceback": [
            "\u001b[1;31m---------------------------------------------------------------------------\u001b[0m",
            "\u001b[1;31mTypeError\u001b[0m                                 Traceback (most recent call last)",
            "Cell \u001b[1;32mIn[19], line 2\u001b[0m\n\u001b[0;32m      1\u001b[0m t \u001b[38;5;241m=\u001b[39m (\u001b[38;5;241m1\u001b[39m,\u001b[38;5;241m2\u001b[39m,\u001b[38;5;241m3\u001b[39m)\n\u001b[1;32m----> 2\u001b[0m t[\u001b[38;5;241m2\u001b[39m] \u001b[38;5;241m=\u001b[39m \u001b[38;5;241m5\u001b[39m\n",
            "\u001b[1;31mTypeError\u001b[0m: 'tuple' object does not support item assignment"
          ]
        }
      ],
      "source": [
        "t = (1,2,3)\n",
        "t[2] = 5"
      ]
    },
    {
      "cell_type": "markdown",
      "metadata": {
        "id": "-56sRj9ZeUk3"
      },
      "source": [
        "**Q1: The previous cell should generate a TypeError. Can you explain why? Can you create a list with the same values as <code>t</code> and assign 5 to position 2 of the newly created list?**"
      ]
    },
    {
      "cell_type": "code",
      "execution_count": null,
      "metadata": {
        "id": "j_Zt3jXoeUk4",
        "outputId": "5a15a520-2efc-4e60-9ba2-ad02b003b0d9"
      },
      "outputs": [
        {
          "data": {
            "text/plain": [
              "[1, 2, 5]"
            ]
          },
          "execution_count": 20,
          "metadata": {},
          "output_type": "execute_result"
        }
      ],
      "source": [
        "#Soluton to Q8:\n",
        "\n",
        "# Error as t is a Tuple and Tuples are immutable\n",
        "# A tuple offers a guarantee that a particular collection of objects will remain fixed\n",
        "\n",
        "l = list(t)\n",
        "l[2] = 5\n",
        "l"
      ]
    },
    {
      "cell_type": "markdown",
      "metadata": {
        "id": "WITPYRddeUk4"
      },
      "source": [
        "<h2><center> Dictionaries </center></h2>\n",
        "\n",
        "Dictionaries play a key role in Python and (as we will see in future labs) in Pandas.\n",
        "\n",
        "Dictionaries are **mappings between key and values**."
      ]
    },
    {
      "cell_type": "code",
      "execution_count": null,
      "metadata": {
        "id": "8jhwOlINeUk4",
        "outputId": "ab74ed2c-b37d-4187-d4a2-ff6177ee1003"
      },
      "outputs": [
        {
          "data": {
            "text/plain": [
              "{'jack': 4098, 'mary': 4139, 'guido': 4127}"
            ]
          },
          "execution_count": 21,
          "metadata": {},
          "output_type": "execute_result"
        }
      ],
      "source": [
        "tel = {'jack': 4098, 'mary': 4139}\n",
        "tel['guido'] = 4127\n",
        "tel"
      ]
    },
    {
      "cell_type": "code",
      "execution_count": null,
      "metadata": {
        "id": "QPNZgHmeeUk4",
        "outputId": "543e730a-2c39-4321-a8c4-c2515c28dca9"
      },
      "outputs": [
        {
          "data": {
            "text/plain": [
              "4098"
            ]
          },
          "execution_count": 22,
          "metadata": {},
          "output_type": "execute_result"
        }
      ],
      "source": [
        "tel['jack']"
      ]
    },
    {
      "cell_type": "code",
      "execution_count": null,
      "metadata": {
        "id": "ZxklxsNueUk4",
        "outputId": "d3648828-215e-4b05-ef79-3e9e6fcca815"
      },
      "outputs": [
        {
          "data": {
            "text/plain": [
              "dict_keys(['jack', 'mary', 'guido'])"
            ]
          },
          "execution_count": 23,
          "metadata": {},
          "output_type": "execute_result"
        }
      ],
      "source": [
        "tel.keys()"
      ]
    },
    {
      "cell_type": "code",
      "execution_count": null,
      "metadata": {
        "id": "vERlC3T7eUk4",
        "outputId": "eaf293d0-5693-4a66-cc96-52ce65e24c3d"
      },
      "outputs": [
        {
          "data": {
            "text/plain": [
              "True"
            ]
          },
          "execution_count": 24,
          "metadata": {},
          "output_type": "execute_result"
        }
      ],
      "source": [
        "'guido' in tel\n",
        "True"
      ]
    },
    {
      "cell_type": "markdown",
      "metadata": {
        "id": "a1sfJhMZeUk4"
      },
      "source": [
        "<h2><center>Sets</center></h2>\n",
        "\n",
        "**Unordered** collections of **unique** items. Values within {curly brackets} and comma-separated. You can apply well-known set functions: union, intersection..."
      ]
    },
    {
      "cell_type": "code",
      "execution_count": null,
      "metadata": {
        "id": "E3vxt7sVeUk4",
        "colab": {
          "base_uri": "https://localhost:8080/"
        },
        "outputId": "3bc90f73-ece1-4d3e-cb31-38bbb27848fc"
      },
      "outputs": [
        {
          "output_type": "execute_result",
          "data": {
            "text/plain": [
              "{1, 3, 5, 7, 9}"
            ]
          },
          "metadata": {},
          "execution_count": 27
        }
      ],
      "source": [
        "primes = {2, 3, 5, 7}\n",
        "odds = set(range(1,10,2))\n",
        "odds"
      ]
    },
    {
      "cell_type": "code",
      "execution_count": null,
      "metadata": {
        "id": "axtMbgHUeUk5",
        "outputId": "648146f0-2b21-476f-c8a3-ee8b56f5d08c",
        "colab": {
          "base_uri": "https://localhost:8080/"
        }
      },
      "outputs": [
        {
          "output_type": "execute_result",
          "data": {
            "text/plain": [
              "{1, 2, 3, 5, 7, 9}"
            ]
          },
          "metadata": {},
          "execution_count": 29
        }
      ],
      "source": [
        "# This represents the union of two sets, primes and odds. It combines all unique elements from both sets. In Python, the union of sets can be done using the | operator.\n",
        "primes | odds # (Union of two sets)"
      ]
    },
    {
      "cell_type": "code",
      "execution_count": null,
      "metadata": {
        "id": "fB6h0Ov8eUk5",
        "outputId": "de84b990-aaf6-4df0-8ec5-951c62ea4524",
        "colab": {
          "base_uri": "https://localhost:8080/"
        }
      },
      "outputs": [
        {
          "output_type": "execute_result",
          "data": {
            "text/plain": [
              "{3, 5, 7}"
            ]
          },
          "metadata": {},
          "execution_count": 30
        }
      ],
      "source": [
        "# This operation will give the elements that are present in both the primes and odds sets.\n",
        "primes & odds # Intersection of two sets (elements common to both sets)."
      ]
    },
    {
      "cell_type": "code",
      "execution_count": null,
      "metadata": {
        "id": "HeQUv4YJeUk5",
        "outputId": "72aa0f3b-953e-452f-cc03-93fbdfd9712f"
      },
      "outputs": [
        {
          "data": {
            "text/plain": [
              "{1, 9}"
            ]
          },
          "execution_count": 28,
          "metadata": {},
          "output_type": "execute_result"
        }
      ],
      "source": [
        "odds - primes # Difference of two sets (elements in the first set but not in the second)."
      ]
    },
    {
      "cell_type": "markdown",
      "metadata": {
        "id": "gQS7lbP9eUk5"
      },
      "source": [
        "**Q1: Can you write 1-line of code to count the number of integers from 0 to 10 that are prime and even?**"
      ]
    },
    {
      "cell_type": "code",
      "execution_count": null,
      "metadata": {
        "id": "ngmox-6IeUk5",
        "colab": {
          "base_uri": "https://localhost:8080/"
        },
        "outputId": "694eb90d-d0e7-477c-d8e3-bfaa2d90665a"
      },
      "outputs": [
        {
          "output_type": "execute_result",
          "data": {
            "text/plain": [
              "{2}"
            ]
          },
          "metadata": {},
          "execution_count": 31
        }
      ],
      "source": [
        "# Solution Q1:\n",
        "\n",
        "(set(range(10))-odds) & primes"
      ]
    },
    {
      "cell_type": "markdown",
      "metadata": {
        "id": "BoMUo7KEeUk8"
      },
      "source": [
        "<h2><center> Arrays </center></h2>"
      ]
    },
    {
      "cell_type": "code",
      "execution_count": null,
      "metadata": {
        "id": "WXgmUzVyeUk8",
        "outputId": "1a22fd1e-6b69-40a1-c4f4-4334dc51337d",
        "colab": {
          "base_uri": "https://localhost:8080/"
        }
      },
      "outputs": [
        {
          "output_type": "stream",
          "name": "stdout",
          "text": [
            "\n",
            " the array from list is : [10 11 12 13 14 15 16 17 18]\n"
          ]
        }
      ],
      "source": [
        "# Create a NumPy array from a Python list:\n",
        "import numpy as np\n",
        "list_of_numbers = [10,11,12,13,14,15,16,17,18]\n",
        "numpy_array_of_numbers = np.array(list_of_numbers)\n",
        "print('\\n the array from list is :',numpy_array_of_numbers)"
      ]
    },
    {
      "cell_type": "code",
      "execution_count": null,
      "metadata": {
        "id": "HqIX_flOeUk8",
        "outputId": "df1ac779-e223-43cf-acc0-a73296814709"
      },
      "outputs": [
        {
          "data": {
            "text/plain": [
              "array([10, 11, 12, 13, 14, 15, 16, 17, 18])"
            ]
          },
          "execution_count": 3,
          "metadata": {},
          "output_type": "execute_result"
        }
      ],
      "source": [
        "# Create a NumPy array with the NumPy method np.arange\n",
        "\n",
        "another_numpy_array = np.arange(10,19)\n",
        "another_numpy_array"
      ]
    },
    {
      "cell_type": "code",
      "execution_count": null,
      "metadata": {
        "id": "-pcO2qqpeUk9",
        "outputId": "881a024b-f351-4f10-b6ee-7a167a798ca4"
      },
      "outputs": [
        {
          "name": "stdout",
          "output_type": "stream",
          "text": [
            "(9,) (9,)\n"
          ]
        }
      ],
      "source": [
        "print(numpy_array_of_numbers.shape, another_numpy_array.shape)"
      ]
    },
    {
      "cell_type": "markdown",
      "metadata": {
        "id": "fjrKYUZDeUk9"
      },
      "source": [
        "**Q1: Can you make a numpy array of only even numbers between 10 and 20 (inclusive), without using a loop?**"
      ]
    },
    {
      "cell_type": "code",
      "execution_count": null,
      "metadata": {
        "id": "wYNLRvCzeUk9",
        "outputId": "e9f1f72d-9167-43f9-f3d0-88d11b3ae930",
        "colab": {
          "base_uri": "https://localhost:8080/"
        }
      },
      "outputs": [
        {
          "output_type": "stream",
          "name": "stdout",
          "text": [
            "[10 11 12 13 14 15 16 17 18 19 20]\n"
          ]
        }
      ],
      "source": [
        "# Solution to Q1\n",
        "import numpy as np\n",
        "\n",
        "numbers = np.arange(10, 21)\n",
        "print(numbers)\n"
      ]
    },
    {
      "cell_type": "code",
      "source": [
        "'''\n",
        "np.arange(10, 21, 2):\n",
        "start=10: The sequence will start at 10.\n",
        "stop=21: The sequence will stop before reaching 21 (so it includes 20 but excludes 21).\n",
        "step=2: This makes sure that only every second number (i.e., even numbers) is included in the array.\n",
        "\n",
        "'''\n",
        "\n",
        "numbers1 = np.arange(10,21,2)\n",
        "print(numbers1)"
      ],
      "metadata": {
        "colab": {
          "base_uri": "https://localhost:8080/"
        },
        "id": "swaWuPctDgqk",
        "outputId": "6d7c1432-9e38-4916-e2df-ebb923c3270d"
      },
      "execution_count": null,
      "outputs": [
        {
          "output_type": "stream",
          "name": "stdout",
          "text": [
            "[10 12 14 16 18 20]\n"
          ]
        }
      ]
    },
    {
      "cell_type": "markdown",
      "metadata": {
        "id": "Jy2bjB4ZeUk9"
      },
      "source": [
        "<h2><center> Indexing and slicing </center></h2>"
      ]
    },
    {
      "cell_type": "code",
      "execution_count": null,
      "metadata": {
        "id": "2Kk4AJwFeUk9",
        "outputId": "5cedaa22-ae76-448d-b399-6d5cf081a241"
      },
      "outputs": [
        {
          "data": {
            "text/plain": [
              "array([20, 21, 22, 23, 24, 25, 26, 27, 28, 29])"
            ]
          },
          "execution_count": 6,
          "metadata": {},
          "output_type": "execute_result"
        }
      ],
      "source": [
        "yet_another_numpy_array = np.array([20,21,22,23,24,25,26,27,28,29])\n",
        "yet_another_numpy_array"
      ]
    },
    {
      "cell_type": "code",
      "execution_count": null,
      "metadata": {
        "id": "1ENhq1xzeUk9",
        "outputId": "e8ca13e1-3ee4-4ee1-e15a-2d077d681d7b"
      },
      "outputs": [
        {
          "data": {
            "text/plain": [
              "25"
            ]
          },
          "execution_count": 7,
          "metadata": {},
          "output_type": "execute_result"
        }
      ],
      "source": [
        "yet_another_numpy_array[5]"
      ]
    },
    {
      "cell_type": "code",
      "execution_count": null,
      "metadata": {
        "id": "P302XPdXeUk9",
        "outputId": "343eeb43-778f-4d52-b586-83cda32bfb87"
      },
      "outputs": [
        {
          "data": {
            "text/plain": [
              "array([23, 24, 25, 26, 27, 28, 29])"
            ]
          },
          "execution_count": 8,
          "metadata": {},
          "output_type": "execute_result"
        }
      ],
      "source": [
        "yet_another_numpy_array[3:]"
      ]
    },
    {
      "cell_type": "code",
      "execution_count": null,
      "metadata": {
        "id": "B7L30E0heUk9",
        "outputId": "95bf1b6c-5a1d-48d3-afc2-f515be70c742"
      },
      "outputs": [
        {
          "data": {
            "text/plain": [
              "array([20, 21, 22, 23, 24, 25, 26, 27])"
            ]
          },
          "execution_count": 9,
          "metadata": {},
          "output_type": "execute_result"
        }
      ],
      "source": [
        "yet_another_numpy_array[:-2]"
      ]
    },
    {
      "cell_type": "code",
      "execution_count": null,
      "metadata": {
        "id": "SRVWyN4HeUk9",
        "outputId": "795626f9-eaa1-436c-8289-7ff82654ff33"
      },
      "outputs": [
        {
          "data": {
            "text/plain": [
              "array([20, 21, 22, 23])"
            ]
          },
          "execution_count": 10,
          "metadata": {},
          "output_type": "execute_result"
        }
      ],
      "source": [
        "yet_another_numpy_array[[True,True,True,True,False,False,False,False,False,False]] #boolean array as mask"
      ]
    },
    {
      "cell_type": "code",
      "execution_count": null,
      "metadata": {
        "id": "Pkj6QkF1eUk9",
        "outputId": "85933f74-c3db-4e34-cd44-310396e89174"
      },
      "outputs": [
        {
          "data": {
            "text/plain": [
              "array([25, 26, 27, 28, 29])"
            ]
          },
          "execution_count": 11,
          "metadata": {},
          "output_type": "execute_result"
        }
      ],
      "source": [
        "yet_another_numpy_array[yet_another_numpy_array > 24] #boolean array as mask"
      ]
    },
    {
      "cell_type": "code",
      "execution_count": null,
      "metadata": {
        "id": "LJUVssAneUk9",
        "outputId": "51a66bb8-518d-4d3f-e358-205daf1628fe"
      },
      "outputs": [
        {
          "data": {
            "text/plain": [
              "array([20, 24, 25])"
            ]
          },
          "execution_count": 12,
          "metadata": {},
          "output_type": "execute_result"
        }
      ],
      "source": [
        "yet_another_numpy_array[[0,4,5]] #fancy indexing"
      ]
    },
    {
      "cell_type": "markdown",
      "metadata": {
        "id": "1UzReWfheUk9"
      },
      "source": [
        "**Q2: How would you select only values between the \"4th from last\" to the \"2nd from last\" entries of this array?**"
      ]
    },
    {
      "cell_type": "code",
      "execution_count": null,
      "metadata": {
        "id": "ll5s8YtNeUk-"
      },
      "outputs": [],
      "source": [
        "#Solution to Q2\n",
        "yet_another_numpy_array[-4:-2]"
      ]
    },
    {
      "cell_type": "markdown",
      "source": [
        "**General Access Syntax:** array1[block_index][row_index][column_index]\n"
      ],
      "metadata": {
        "id": "XobO4KAvLk2x"
      }
    },
    {
      "cell_type": "code",
      "execution_count": null,
      "metadata": {
        "id": "kslS3niOpj3g",
        "outputId": "a3948c52-2003-4386-928b-44ecb49dad3b",
        "colab": {
          "base_uri": "https://localhost:8080/"
        }
      },
      "outputs": [
        {
          "output_type": "stream",
          "name": "stdout",
          "text": [
            "[[['John' 'Ron' 'Sean']\n",
            "  ['Margaret' 'Rachel' 'Jim']\n",
            "  ['Angel' 'Joey' 'Tom']]\n",
            "\n",
            " [['Max' 'Maxine' 'Richard']\n",
            "  ['Barton ' 'Flynn' 'Simon']\n",
            "  ['Bob' 'Leo' 'Kimn']]\n",
            "\n",
            " [['Wayne' 'Sarah' 'Lucy']\n",
            "  ['Lucy' 'Kurtis' 'Yu']\n",
            "  ['Jack' 'Lex' 'Alex']]]\n"
          ]
        }
      ],
      "source": [
        "array1 = np.array([[[\"John\", \"Ron\", \"Sean\"],\n",
        "                  [\"Margaret\", \"Rachel\", \"Jim\"],\n",
        "                  [\"Angel\", \"Joey\", \"Tom\"]],\n",
        "\n",
        "                 [[\"Max\", \"Maxine\", \"Richard\"],\n",
        "                  [\"Barton \", \"Flynn\", \"Simon\"],\n",
        "                  [\"Bob\", \"Leo\", \"Kimn\"]],\n",
        "\n",
        "                 [[\"Wayne\", \"Sarah\", \"Lucy\"],\n",
        "                  [\"Lucy\", \"Kurtis\", \"Yu\"],\n",
        "                  [\"Jack\", \"Lex\", \"Alex\"]]])\n",
        "print(array1)"
      ]
    },
    {
      "cell_type": "code",
      "execution_count": null,
      "metadata": {
        "id": "dg6AS5X7pj3h",
        "outputId": "87e34483-8ead-4647-e743-5ba6ac5e4d2a",
        "colab": {
          "base_uri": "https://localhost:8080/"
        }
      },
      "outputs": [
        {
          "output_type": "execute_result",
          "data": {
            "text/plain": [
              "(3, 3, 3)"
            ]
          },
          "metadata": {},
          "execution_count": 64
        }
      ],
      "source": [
        "array1.shape"
      ]
    },
    {
      "cell_type": "code",
      "execution_count": null,
      "metadata": {
        "id": "KsgXwqtmpj3h",
        "outputId": "931fa257-d0d1-47df-fe0e-7093b2c65531"
      },
      "outputs": [
        {
          "data": {
            "text/plain": [
              "27"
            ]
          },
          "execution_count": 16,
          "metadata": {},
          "output_type": "execute_result"
        }
      ],
      "source": [
        "array1.size"
      ]
    },
    {
      "cell_type": "markdown",
      "source": [
        "### **Let's look at what happens with various slicing schemes**"
      ],
      "metadata": {
        "id": "tiOISwZmkg1z"
      }
    },
    {
      "cell_type": "code",
      "source": [
        "# First element of the first block\n",
        "print(array1[0][0][0])\n",
        "\n",
        "# Middle element of the second row in the second block\n",
        "print(array1[1][1][1])\n",
        "\n",
        "#Last element of the last block\n",
        "print(array1[2][2][2])\n"
      ],
      "metadata": {
        "colab": {
          "base_uri": "https://localhost:8080/"
        },
        "id": "TQI2IAx8MLef",
        "outputId": "a3cf3f03-d1e2-48e4-be4a-50dd9dad28ed"
      },
      "execution_count": null,
      "outputs": [
        {
          "output_type": "stream",
          "name": "stdout",
          "text": [
            "John\n",
            "Flynn\n",
            "Alex\n"
          ]
        }
      ]
    },
    {
      "cell_type": "markdown",
      "source": [
        "**Accessing Entire Rows**"
      ],
      "metadata": {
        "id": "hZBGE0nzYlN5"
      }
    },
    {
      "cell_type": "code",
      "source": [
        "# Entire first row of the first block\n",
        "print(array1[0][0])\n",
        "\n",
        "# Entire second row of the third block\n",
        "print(array1[2][1])"
      ],
      "metadata": {
        "colab": {
          "base_uri": "https://localhost:8080/"
        },
        "id": "ii5dGloVYYtS",
        "outputId": "b7e2b217-fddd-4043-cef7-3ac14bb81658"
      },
      "execution_count": null,
      "outputs": [
        {
          "output_type": "stream",
          "name": "stdout",
          "text": [
            "['John' 'Ron' 'Sean']\n",
            "['Lucy' 'Kurtis' 'Yu']\n"
          ]
        }
      ]
    },
    {
      "cell_type": "markdown",
      "source": [
        "**Accessing Entire Blocks**"
      ],
      "metadata": {
        "id": "qwbPRs9WZVV7"
      }
    },
    {
      "cell_type": "code",
      "source": [
        "#Entire third block:\n",
        "print(array1 [2])\n",
        "print(array1[0])\n"
      ],
      "metadata": {
        "colab": {
          "base_uri": "https://localhost:8080/"
        },
        "id": "J1RG2FBUZczm",
        "outputId": "d8865af0-f9bf-4e24-c99b-869fc1f89343"
      },
      "execution_count": null,
      "outputs": [
        {
          "output_type": "stream",
          "name": "stdout",
          "text": [
            "[['Wayne' 'Sarah' 'Lucy']\n",
            " ['Lucy' 'Kurtis' 'Yu']\n",
            " ['Jack' 'Lex' 'Alex']]\n",
            "[['John' 'Ron' 'Sean']\n",
            " ['Margaret' 'Rachel' 'Jim']\n",
            " ['Angel' 'Joey' 'Tom']]\n"
          ]
        }
      ]
    },
    {
      "cell_type": "markdown",
      "source": [
        "**Slicing the Array**"
      ],
      "metadata": {
        "id": "iYnqM6E5aUAN"
      }
    },
    {
      "cell_type": "code",
      "source": [
        "#Access the first column of each row from the third block:\n",
        "array1[2, :, 0]"
      ],
      "metadata": {
        "colab": {
          "base_uri": "https://localhost:8080/"
        },
        "id": "xJ_DJjT0agtN",
        "outputId": "a22a2d11-adca-4556-8241-683ccf32ebba"
      },
      "execution_count": null,
      "outputs": [
        {
          "output_type": "execute_result",
          "data": {
            "text/plain": [
              "array(['Wayne', 'Lucy', 'Jack'], dtype='<U8')"
            ]
          },
          "metadata": {},
          "execution_count": 60
        }
      ]
    },
    {
      "cell_type": "code",
      "source": [
        "# Access all names from the second column of each row across all blocks:\n",
        "array1[:, :, 1]"
      ],
      "metadata": {
        "colab": {
          "base_uri": "https://localhost:8080/"
        },
        "id": "ux-XtPLyawzd",
        "outputId": "3bbb1c45-e667-4aad-90ee-6c6daad41f7a"
      },
      "execution_count": null,
      "outputs": [
        {
          "output_type": "execute_result",
          "data": {
            "text/plain": [
              "array([['Ron', 'Rachel', 'Joey'],\n",
              "       ['Maxine', 'Flynn', 'Leo'],\n",
              "       ['Sarah', 'Kurtis', 'Lex']], dtype='<U8')"
            ]
          },
          "metadata": {},
          "execution_count": 61
        }
      ]
    },
    {
      "cell_type": "markdown",
      "source": [
        "**Fancy Indexing:**"
      ],
      "metadata": {
        "id": "crFf8R85c1YM"
      }
    },
    {
      "cell_type": "code",
      "source": [
        "#You can also access specific elements from different locations using a list of indices.\n",
        "array1[[0, 1], [0, 1], [0, 1]]"
      ],
      "metadata": {
        "colab": {
          "base_uri": "https://localhost:8080/"
        },
        "id": "Lhk-uajtcBrk",
        "outputId": "fb91a1b3-5680-4686-c495-9ec2f45b0a12"
      },
      "execution_count": null,
      "outputs": [
        {
          "output_type": "execute_result",
          "data": {
            "text/plain": [
              "array(['John', 'Flynn'], dtype='<U8')"
            ]
          },
          "metadata": {},
          "execution_count": 63
        }
      ]
    },
    {
      "cell_type": "markdown",
      "metadata": {
        "id": "7gRixi4fjTRu"
      },
      "source": [
        "**Q4: How would you select Middle column, all rows, but don't flatten; keep matrix shape**"
      ]
    },
    {
      "cell_type": "code",
      "execution_count": null,
      "metadata": {
        "id": "4XrRKBG-pj3h",
        "outputId": "a9cc8aec-f969-47c3-8805-2d72e40b3dbd"
      },
      "outputs": [
        {
          "name": "stdout",
          "output_type": "stream",
          "text": [
            "[[['Margaret' 'Rachel' 'Jim']]\n",
            "\n",
            " [['Barton ' 'Flynn' 'Simon']]\n",
            "\n",
            " [['Lucy' 'Kurtis' 'Yu']]]\n"
          ]
        }
      ],
      "source": [
        "#Solution to Q4\n",
        "# When a list is used for choosing the column, the dimension is kept\n",
        "print(array1[:, [1]])"
      ]
    },
    {
      "cell_type": "markdown",
      "metadata": {
        "id": "MOzmqI1hpj3h"
      },
      "source": [
        "### switch the [row,column]"
      ]
    },
    {
      "cell_type": "code",
      "execution_count": null,
      "metadata": {
        "id": "j_YmhryweUk-",
        "outputId": "c20d9d18-b5cf-4073-ee13-e157ab28fbaf",
        "colab": {
          "base_uri": "https://localhost:8080/"
        }
      },
      "outputs": [
        {
          "output_type": "execute_result",
          "data": {
            "text/plain": [
              "array([[11, 12],\n",
              "       [13, 14]])"
            ]
          },
          "metadata": {},
          "execution_count": 66
        }
      ],
      "source": [
        "a_numpy_2d_array = np.array([[11,12],[13,14]])\n",
        "a_numpy_2d_array"
      ]
    },
    {
      "cell_type": "code",
      "execution_count": null,
      "metadata": {
        "id": "3y2UVAJZeUk-",
        "outputId": "62ced8f6-df7d-4fd8-dc03-ebd6c8456dce",
        "colab": {
          "base_uri": "https://localhost:8080/"
        }
      },
      "outputs": [
        {
          "output_type": "execute_result",
          "data": {
            "text/plain": [
              "13"
            ]
          },
          "metadata": {},
          "execution_count": 67
        }
      ],
      "source": [
        "a_numpy_2d_array[1,0]"
      ]
    },
    {
      "cell_type": "code",
      "execution_count": null,
      "metadata": {
        "id": "moLqbKd7eUk-",
        "outputId": "2fbf8953-3c40-418b-a99f-e58efa9c3329",
        "colab": {
          "base_uri": "https://localhost:8080/"
        }
      },
      "outputs": [
        {
          "output_type": "execute_result",
          "data": {
            "text/plain": [
              "array([11, 13])"
            ]
          },
          "metadata": {},
          "execution_count": 68
        }
      ],
      "source": [
        "a_numpy_2d_array[:,0]"
      ]
    },
    {
      "cell_type": "markdown",
      "metadata": {
        "id": "RupzPr5EeUk-"
      },
      "source": [
        "**Q5: Can you switch the [row,column] indices on this array?**"
      ]
    },
    {
      "cell_type": "code",
      "execution_count": null,
      "metadata": {
        "id": "-yYzb2xzeUk-",
        "outputId": "441da098-2c5a-4c0f-e6d8-1e647a2bb087",
        "colab": {
          "base_uri": "https://localhost:8080/"
        }
      },
      "outputs": [
        {
          "output_type": "stream",
          "name": "stdout",
          "text": [
            "[[11 13]\n",
            " [12 14]]\n",
            "[[11 13]\n",
            " [12 14]]\n"
          ]
        }
      ],
      "source": [
        "#Solution to Q5\n",
        "print(np.transpose(a_numpy_2d_array))\n",
        "print(a_numpy_2d_array.T)"
      ]
    },
    {
      "cell_type": "code",
      "execution_count": null,
      "metadata": {
        "id": "paWKwoDReUk_",
        "outputId": "bd6432f7-917e-4587-b42e-8f5f9f6bc23c",
        "colab": {
          "base_uri": "https://localhost:8080/"
        }
      },
      "outputs": [
        {
          "output_type": "stream",
          "name": "stdout",
          "text": [
            "[0 1 2 3 4 5 6 7 8]  Shape:  (9,)\n"
          ]
        }
      ],
      "source": [
        "numpy_digits_array = np.arange(0,9)\n",
        "print(numpy_digits_array, \" Shape: \", numpy_digits_array.shape)"
      ]
    },
    {
      "cell_type": "code",
      "execution_count": null,
      "metadata": {
        "id": "sW84nux4eUk_",
        "outputId": "7a354cf0-eda4-4e18-cea0-a1e07bf495b5",
        "colab": {
          "base_uri": "https://localhost:8080/"
        }
      },
      "outputs": [
        {
          "output_type": "stream",
          "name": "stdout",
          "text": [
            "[[0 1 2]\n",
            " [3 4 5]\n",
            " [6 7 8]]  Shape:  (3, 3)\n"
          ]
        }
      ],
      "source": [
        "numpy_digits_array_2D = numpy_digits_array.reshape([3,3])\n",
        "print(numpy_digits_array_2D, \" Shape: \", numpy_digits_array_2D.shape)"
      ]
    },
    {
      "cell_type": "code",
      "execution_count": null,
      "metadata": {
        "id": "UwYy9avteUk_",
        "outputId": "90e34b89-063c-4784-ed7c-38d66d657eca",
        "colab": {
          "base_uri": "https://localhost:8080/"
        }
      },
      "outputs": [
        {
          "output_type": "stream",
          "name": "stdout",
          "text": [
            "[0 1 2 3 4 5 6 7 8]  Shape:  (9,)\n"
          ]
        }
      ],
      "source": [
        "numpy_digits_array_2D_back_to_1D = numpy_digits_array_2D.reshape(-1)\n",
        "print(numpy_digits_array_2D_back_to_1D, \" Shape: \", numpy_digits_array_2D_back_to_1D.shape)"
      ]
    },
    {
      "cell_type": "markdown",
      "metadata": {
        "id": "-2jtaXVceUk_"
      },
      "source": [
        "<h2><center> Arithmetic </center></h2>"
      ]
    },
    {
      "cell_type": "code",
      "execution_count": null,
      "metadata": {
        "id": "5IN8YF0geUk_",
        "outputId": "892991f1-7747-40fd-dd80-d9b53661b26e"
      },
      "outputs": [
        {
          "name": "stdout",
          "output_type": "stream",
          "text": [
            "a:\n",
            " [[10 11]\n",
            " [12 13]]\n",
            "b:\n",
            " [[ 1 -1]\n",
            " [-1  1]]\n"
          ]
        }
      ],
      "source": [
        "a = np.array([[10,11],[12,13]])\n",
        "b = np.array([[1,-1],[-1,1]])\n",
        "print(\"a:\\n\", a)\n",
        "print(\"b:\\n\", b)"
      ]
    },
    {
      "cell_type": "code",
      "execution_count": null,
      "metadata": {
        "id": "I3RyuC5_eUk_",
        "outputId": "25832481-cccf-453b-eb6e-a82106ddd102"
      },
      "outputs": [
        {
          "name": "stdout",
          "output_type": "stream",
          "text": [
            "a*b:\n",
            " [[ 10 -11]\n",
            " [-12  13]]\n",
            "a+b:\n",
            " [[11 10]\n",
            " [11 14]]\n"
          ]
        }
      ],
      "source": [
        "print(\"a*b:\\n\", a*b)\n",
        "print(\"a+b:\\n\", a+b)"
      ]
    },
    {
      "cell_type": "code",
      "execution_count": null,
      "metadata": {
        "id": "tu1ijaWzeUk_",
        "outputId": "69b19e9a-b20c-49db-c712-54ee0bbe2529"
      },
      "outputs": [
        {
          "name": "stdout",
          "output_type": "stream",
          "text": [
            "Matrix multiplication of a and b:\n",
            " [[-1  1]\n",
            " [-1  1]]\n"
          ]
        }
      ],
      "source": [
        "print(\"Matrix multiplication of a and b:\\n\",np.matmul(a,b))"
      ]
    },
    {
      "cell_type": "code",
      "execution_count": null,
      "metadata": {
        "id": "HOrFYltPeUlA",
        "outputId": "ea88c38d-501f-4eb9-af97-b2d1c1ca4802"
      },
      "outputs": [
        {
          "data": {
            "text/plain": [
              "46"
            ]
          },
          "execution_count": 32,
          "metadata": {},
          "output_type": "execute_result"
        }
      ],
      "source": [
        "np.sum(a)"
      ]
    },
    {
      "cell_type": "code",
      "execution_count": null,
      "metadata": {
        "id": "cTX7fnuteUlA",
        "outputId": "86cd3d5e-bd2e-4a21-fc59-58e8861d3fbd"
      },
      "outputs": [
        {
          "name": "stdout",
          "output_type": "stream",
          "text": [
            "[[10 11]\n",
            " [12 13]]\n",
            "Sum all entries:  46\n",
            "Sum along lines:  [21 25]\n",
            "Sum along columns:  [22 24]\n"
          ]
        }
      ],
      "source": [
        "print(a)\n",
        "print(\"Sum all entries: \", np.sum(a))\n",
        "print(\"Sum along lines: \", np.sum(a, axis=1))\n",
        "print(\"Sum along columns: \", np.sum(a, axis=0))\n",
        "\n",
        "#axis: the dimension of the array that will be colapsed"
      ]
    },
    {
      "cell_type": "markdown",
      "metadata": {
        "id": "sgDzQELteUlA"
      },
      "source": [
        "**Q7: Axis are important: Can you get the maximum over columns of these matrices? And the minimum over lines?**"
      ]
    },
    {
      "cell_type": "code",
      "source": [
        "import numpy as np\n",
        "a = np.array([[11,12],[13,14]])\n",
        "a"
      ],
      "metadata": {
        "colab": {
          "base_uri": "https://localhost:8080/"
        },
        "id": "PThwZh0ii44E",
        "outputId": "52022675-75eb-41ae-c8d7-e2c573656136"
      },
      "execution_count": null,
      "outputs": [
        {
          "output_type": "execute_result",
          "data": {
            "text/plain": [
              "array([[11, 12],\n",
              "       [13, 14]])"
            ]
          },
          "metadata": {},
          "execution_count": 80
        }
      ]
    },
    {
      "cell_type": "code",
      "execution_count": null,
      "metadata": {
        "id": "8-Bd0lRveUlA",
        "outputId": "b107979a-290b-4ad4-df26-6aa46a87440f",
        "colab": {
          "base_uri": "https://localhost:8080/"
        }
      },
      "outputs": [
        {
          "output_type": "stream",
          "name": "stdout",
          "text": [
            "Max along lines:  [12 14]\n",
            "Min along columns:  [11 12]\n"
          ]
        }
      ],
      "source": [
        "# Solution to Q7\n",
        "print(\"Max along lines: \", np.max(a, axis=1))\n",
        "print(\"Min along columns: \", np.min(a, axis=0))"
      ]
    },
    {
      "cell_type": "markdown",
      "metadata": {
        "id": "LORq1swFeUlA"
      },
      "source": [
        "<h1><center> Broadcasting </center></h1>"
      ]
    },
    {
      "cell_type": "code",
      "execution_count": null,
      "metadata": {
        "id": "j0ZIRhtweUlA",
        "outputId": "eddaa758-234d-4f64-bb71-eb3a268112aa",
        "colab": {
          "base_uri": "https://localhost:8080/"
        }
      },
      "outputs": [
        {
          "output_type": "stream",
          "name": "stdout",
          "text": [
            "[2. 4. 6.]    [ 7.  8.  9. 10.]\n"
          ]
        }
      ],
      "source": [
        "a = np.array([2.0, 4.0, 6.0])\n",
        "b = np.array([7.0, 8.0, 9.0, 10.0])\n",
        "print(a,\"  \",b)"
      ]
    },
    {
      "cell_type": "code",
      "execution_count": null,
      "metadata": {
        "id": "73h46y7beUlA",
        "outputId": "d79749d9-5acf-40e9-d2eb-e34833f53288",
        "colab": {
          "base_uri": "https://localhost:8080/",
          "height": 176
        }
      },
      "outputs": [
        {
          "output_type": "error",
          "ename": "ValueError",
          "evalue": "operands could not be broadcast together with shapes (3,) (4,) ",
          "traceback": [
            "\u001b[0;31m---------------------------------------------------------------------------\u001b[0m",
            "\u001b[0;31mValueError\u001b[0m                                Traceback (most recent call last)",
            "\u001b[0;32m<ipython-input-83-72316e89b886>\u001b[0m in \u001b[0;36m<cell line: 1>\u001b[0;34m()\u001b[0m\n\u001b[0;32m----> 1\u001b[0;31m \u001b[0ma\u001b[0m\u001b[0;34m+\u001b[0m\u001b[0mb\u001b[0m\u001b[0;34m\u001b[0m\u001b[0;34m\u001b[0m\u001b[0m\n\u001b[0m\u001b[1;32m      2\u001b[0m \u001b[0;34m\u001b[0m\u001b[0m\n\u001b[1;32m      3\u001b[0m \u001b[0;31m# Error? Understand why...\u001b[0m\u001b[0;34m\u001b[0m\u001b[0;34m\u001b[0m\u001b[0m\n",
            "\u001b[0;31mValueError\u001b[0m: operands could not be broadcast together with shapes (3,) (4,) "
          ]
        }
      ],
      "source": [
        "a+b\n",
        "\n",
        "# Error? Understand why..."
      ]
    }
  ]
}