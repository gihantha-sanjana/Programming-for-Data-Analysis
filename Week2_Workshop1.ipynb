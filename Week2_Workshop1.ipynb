{
  "nbformat": 4,
  "nbformat_minor": 0,
  "metadata": {
    "colab": {
      "provenance": []
    },
    "kernelspec": {
      "name": "python3",
      "display_name": "Python 3"
    },
    "language_info": {
      "name": "python"
    }
  },
  "cells": [
    {
      "cell_type": "markdown",
      "metadata": {
        "id": "U5xoneOIeUkp"
      },
      "source": [
        "Python is dynamically-typed: variable names can point to objects of any type.\n",
        "\n",
        "This happens as variables are in fact pointers to objects. While objects have a specific type, variables can point to objects of any type. Below, we create a variable <code>x</code> and assign it (i.e., make it point) to an integer object with value 10. After that, we re-assign variable <code>x</code> so that it points to a string object."
      ]
    },
    {
      "cell_type": "code",
      "execution_count": null,
      "metadata": {
        "id": "NO6-rbSleUkq"
      },
      "outputs": [],
      "source": [
        "x = 10\n",
        "x = 'hello'\n",
        "x = \"hello to show no differences between quote and double quote\""
      ]
    },
    {
      "cell_type": "markdown",
      "metadata": {
        "id": "pMNSOd_MeUks"
      },
      "source": [
        "**Q1 : Can you concatenate the strings <code>a</code>, <code>b</code> and <code>c</code>?**"
      ]
    },
    {
      "cell_type": "code",
      "execution_count": null,
      "metadata": {
        "id": "Ekoly-coeUkr"
      },
      "outputs": [],
      "source": [
        "a = \"Name name is\"\n",
        "b = \" R2D2\"\n",
        "c = \".\""
      ]
    },
    {
      "cell_type": "code",
      "execution_count": null,
      "metadata": {
        "id": "mGAydBhSeUks"
      },
      "outputs": [],
      "source": [
        "#Solution to Q1\n"
      ]
    },
    {
      "cell_type": "markdown",
      "metadata": {
        "id": "I8SbJx54eUkq"
      },
      "source": [
        "**Q2: Can you generete a string equal to x but with all characters in upper case?**\n",
        "\n",
        "*Remember how to use Tab to auto-complete and check methods available to strings with x.*"
      ]
    },
    {
      "cell_type": "code",
      "execution_count": null,
      "metadata": {
        "id": "pSRDXSSgeUkq"
      },
      "outputs": [],
      "source": [
        "# Solution to Q2\n",
        "x.upper()"
      ]
    },
    {
      "cell_type": "markdown",
      "metadata": {
        "id": "AXt4TRS2eUkr"
      },
      "source": [
        "**Q3: Can you split string x given words separated by spaces?**"
      ]
    },
    {
      "cell_type": "code",
      "execution_count": null,
      "metadata": {
        "id": "35_tu6cDeUkr",
        "colab": {
          "base_uri": "https://localhost:8080/"
        },
        "outputId": "b10594c3-5877-411a-80e4-86798613374b"
      },
      "outputs": [
        {
          "output_type": "stream",
          "name": "stdout",
          "text": [
            "['hello', 'to', 'show', 'no', 'differences', 'between', 'quote', 'and', 'double', 'quote']\n"
          ]
        }
      ],
      "source": [
        "# Solution to Q3\n"
      ]
    },
    {
      "cell_type": "markdown",
      "metadata": {
        "id": "HtBT0wHeeUks"
      },
      "source": [
        "**Q4: Can you repeat string <code>b</code> 10 times using a maximum of 3 characters?**"
      ]
    },
    {
      "cell_type": "code",
      "execution_count": null,
      "metadata": {
        "id": "hv5hFKLweUks"
      },
      "outputs": [],
      "source": [
        "# Solution to Q5\n",
        "b = 'CMP7005'"
      ]
    },
    {
      "cell_type": "markdown",
      "metadata": {
        "id": "9YWB774EeUki"
      },
      "source": [
        "<h1><center> Part I: Lists </center></h1>"
      ]
    },
    {
      "cell_type": "code",
      "execution_count": null,
      "metadata": {
        "id": "wS2T0i3NeUkx"
      },
      "outputs": [],
      "source": [
        "fruits = ['orange', 'apple', 'pear', 'banana', 'kiwi', 'apple', 'banana']\n",
        "fruits[4]"
      ]
    },
    {
      "cell_type": "code",
      "execution_count": null,
      "metadata": {
        "id": "YVdHS1JneUky"
      },
      "outputs": [],
      "source": [
        "fruits[2:5]"
      ]
    },
    {
      "cell_type": "code",
      "execution_count": null,
      "metadata": {
        "id": "PZvpRbuTeUky"
      },
      "outputs": [],
      "source": [
        "fruits.count('apple')"
      ]
    },
    {
      "cell_type": "code",
      "execution_count": null,
      "metadata": {
        "id": "2iVKkFn9eUky"
      },
      "outputs": [],
      "source": [
        "fruits.index('banana')"
      ]
    },
    {
      "cell_type": "code",
      "execution_count": null,
      "metadata": {
        "id": "lwOU5fUmeUkz"
      },
      "outputs": [],
      "source": [
        "'apple' in fruits"
      ]
    },
    {
      "cell_type": "code",
      "execution_count": null,
      "metadata": {
        "id": "_hBwXr0GeUkz"
      },
      "outputs": [],
      "source": [
        "fruits.sort()\n",
        "fruits"
      ]
    },
    {
      "cell_type": "code",
      "execution_count": null,
      "metadata": {
        "id": "bM9TLmi5eUk0"
      },
      "outputs": [],
      "source": [
        "len(fruits)"
      ]
    },
    {
      "cell_type": "code",
      "execution_count": null,
      "metadata": {
        "id": "g4Wti-8leUk0"
      },
      "outputs": [],
      "source": [
        "fruits += [100]\n",
        "fruits"
      ]
    },
    {
      "cell_type": "markdown",
      "metadata": {
        "id": "KW3e6-ApeUk0"
      },
      "source": [
        "**Q1: Can you work out how to insert a new object ('strawberry') in the below defined position in the list?**"
      ]
    },
    {
      "cell_type": "code",
      "execution_count": null,
      "metadata": {
        "id": "ZHJQXUGpeUk0",
        "outputId": "73c91b3d-f41e-4dd3-c004-be79bad9a417"
      },
      "outputs": [
        {
          "data": {
            "text/plain": [
              "['apple',\n",
              " 'apple',\n",
              " 'banana',\n",
              " 'strawberry',\n",
              " 'banana',\n",
              " 'kiwi',\n",
              " 'orange',\n",
              " 'pear',\n",
              " 100]"
            ]
          },
          "execution_count": 9,
          "metadata": {},
          "output_type": "execute_result"
        }
      ],
      "source": [
        "# Solution to Q1\n"
      ]
    },
    {
      "cell_type": "markdown",
      "metadata": {
        "id": "bJqv57XeeUk2"
      },
      "source": [
        "**Q2: Indexing: Can you write code to select elements of x from the 3rd to the second-last element (inclusive)?**"
      ]
    },
    {
      "cell_type": "code",
      "execution_count": 1,
      "metadata": {
        "id": "IK8rEplWeUk2"
      },
      "outputs": [],
      "source": [
        "# Solution to Q2:\n",
        "x = [1, 2, 3, 4, 5, 6, 7, 8] # say x is the given list"
      ]
    },
    {
      "cell_type": "markdown",
      "metadata": {
        "id": "lzSzBNX9eUk3"
      },
      "source": [
        "**Q3: Indexing: Can you write code to select elements of x in even positions (0, 2, 4, 6 ...)?**"
      ]
    },
    {
      "cell_type": "code",
      "execution_count": null,
      "metadata": {
        "id": "ryfr8nnLeUk3"
      },
      "outputs": [],
      "source": [
        "# Solution to Q3:\n",
        "x = [1, 2, 3, 4, 5, 6, 7, 8] # say x is the given list"
      ]
    },
    {
      "cell_type": "code",
      "source": [
        "x[1:9:2] # finding even numbers in the list"
      ],
      "metadata": {
        "colab": {
          "base_uri": "https://localhost:8080/"
        },
        "id": "0NGgYZn796Np",
        "outputId": "136ff11d-71c4-46e9-bc91-ef6e74794e2d"
      },
      "execution_count": null,
      "outputs": [
        {
          "output_type": "execute_result",
          "data": {
            "text/plain": [
              "[2, 4, 6, 8]"
            ]
          },
          "metadata": {},
          "execution_count": 19
        }
      ]
    },
    {
      "cell_type": "markdown",
      "metadata": {
        "id": "lCFIDSoAeUk3"
      },
      "source": [
        "**Q4: Indexing: Can you write code to select elements of x in odd positions (1, 3, 5...) in reverse order?**"
      ]
    },
    {
      "cell_type": "code",
      "execution_count": null,
      "metadata": {
        "id": "BmiHg-vMeUk3"
      },
      "outputs": [],
      "source": [
        "# Solution to Q4:\n",
        "x = [1, 2, 3, 4, 5, 6, 7, 8] # say x is the given list\n"
      ]
    },
    {
      "cell_type": "code",
      "source": [
        "x[-2:-9:-2] # finding the odd numbers in the list"
      ],
      "metadata": {
        "colab": {
          "base_uri": "https://localhost:8080/"
        },
        "id": "riHDoGg1-Oov",
        "outputId": "49e5077d-5c7c-45f4-e645-4706dc9d4e95"
      },
      "execution_count": null,
      "outputs": [
        {
          "output_type": "execute_result",
          "data": {
            "text/plain": [
              "[7, 5, 3, 1]"
            ]
          },
          "metadata": {},
          "execution_count": 26
        }
      ]
    },
    {
      "cell_type": "markdown",
      "metadata": {
        "id": "pgI59LIieUk2"
      },
      "source": [
        "**Q5: Write code that prints 'a not contained in x' if <code>a</code> is not contained in <code>x</code>.**"
      ]
    },
    {
      "cell_type": "code",
      "execution_count": null,
      "metadata": {
        "id": "bZAZCM2keUk1"
      },
      "outputs": [],
      "source": [
        "#Given the following list\n",
        "x = [1, 2, 3, 4, 5, 6, 7, 8]\n",
        "a = 6.2"
      ]
    },
    {
      "cell_type": "code",
      "execution_count": null,
      "metadata": {
        "id": "VYfllHWzeUk2",
        "outputId": "15b3243b-24f7-41db-8442-d7c3d7c26708"
      },
      "outputs": [
        {
          "name": "stdout",
          "output_type": "stream",
          "text": [
            "a not contained in x\n"
          ]
        }
      ],
      "source": [
        "# Solution to Q4:\n"
      ]
    },
    {
      "cell_type": "markdown",
      "metadata": {
        "id": "xq3gMli_eUk3"
      },
      "source": [
        "<h2><center> Tuple </center></h2>\n",
        "\n",
        "Ordered and **immutable** collection. Values within (square brackets) and comma-separated."
      ]
    },
    {
      "cell_type": "code",
      "execution_count": null,
      "metadata": {
        "outputId": "53646072-18c5-482c-daa3-566bd8264673",
        "id": "mpGcF0e0Nlv8"
      },
      "outputs": [
        {
          "ename": "TypeError",
          "evalue": "'tuple' object does not support item assignment",
          "output_type": "error",
          "traceback": [
            "\u001b[1;31m---------------------------------------------------------------------------\u001b[0m",
            "\u001b[1;31mTypeError\u001b[0m                                 Traceback (most recent call last)",
            "Cell \u001b[1;32mIn[19], line 2\u001b[0m\n\u001b[0;32m      1\u001b[0m t \u001b[38;5;241m=\u001b[39m (\u001b[38;5;241m1\u001b[39m,\u001b[38;5;241m2\u001b[39m,\u001b[38;5;241m3\u001b[39m)\n\u001b[1;32m----> 2\u001b[0m t[\u001b[38;5;241m2\u001b[39m] \u001b[38;5;241m=\u001b[39m \u001b[38;5;241m5\u001b[39m\n",
            "\u001b[1;31mTypeError\u001b[0m: 'tuple' object does not support item assignment"
          ]
        }
      ],
      "source": [
        "t = (1,2,3)\n",
        "t[2] = 5"
      ]
    },
    {
      "cell_type": "markdown",
      "metadata": {
        "id": "sDfOm6Z_Nlv8"
      },
      "source": [
        "**Q1: The previous cell should generate a TypeError. Can you explain why? Can you create a list with the same values as <code>t</code> and assign 5 to position 2 of the newly created list?**"
      ]
    },
    {
      "cell_type": "code",
      "execution_count": null,
      "metadata": {
        "id": "Wp45pkhqNlv8"
      },
      "outputs": [],
      "source": [
        "#Soluton to Q8:\n",
        "\n",
        "# Error as t is a Tuple and Tuples are immutable\n",
        "# A tuple offers a guarantee that a particular collection of objects will remain fixed\n",
        "\n",
        "l = list(t)\n",
        "l[2] = 5\n",
        "l"
      ]
    },
    {
      "cell_type": "markdown",
      "metadata": {
        "id": "WITPYRddeUk4"
      },
      "source": [
        "<h2><center> Dictionaries </center></h2>\n",
        "\n",
        "Dictionaries play a key role in Python and (as we will see in future labs) in Pandas.\n",
        "\n",
        "Dictionaries are **mappings between key and values**."
      ]
    },
    {
      "cell_type": "code",
      "execution_count": null,
      "metadata": {
        "id": "8jhwOlINeUk4"
      },
      "outputs": [],
      "source": [
        "tel = {'jack': 4098, 'mary': 4139}\n",
        "tel['guido'] = 4127\n",
        "tel"
      ]
    },
    {
      "cell_type": "code",
      "execution_count": null,
      "metadata": {
        "id": "QPNZgHmeeUk4"
      },
      "outputs": [],
      "source": [
        "tel['jack']"
      ]
    },
    {
      "cell_type": "code",
      "execution_count": null,
      "metadata": {
        "id": "ZxklxsNueUk4"
      },
      "outputs": [],
      "source": [
        "tel.keys()"
      ]
    },
    {
      "cell_type": "code",
      "execution_count": null,
      "metadata": {
        "id": "vERlC3T7eUk4"
      },
      "outputs": [],
      "source": [
        "'guido' in tel\n",
        "True"
      ]
    },
    {
      "cell_type": "markdown",
      "metadata": {
        "id": "a1sfJhMZeUk4"
      },
      "source": [
        "<h2><center>Sets</center></h2>\n",
        "\n",
        "**Unordered** collections of **unique** items. Values within {curly brackets} and comma-separated. You can apply well-known set functions: union, intersection..."
      ]
    },
    {
      "cell_type": "code",
      "execution_count": 3,
      "metadata": {
        "id": "E3vxt7sVeUk4",
        "colab": {
          "base_uri": "https://localhost:8080/"
        },
        "outputId": "dd3def8e-85fe-4f2a-ab70-9ec9a18287d0"
      },
      "outputs": [
        {
          "output_type": "execute_result",
          "data": {
            "text/plain": [
              "{1, 3, 5, 7, 9}"
            ]
          },
          "metadata": {},
          "execution_count": 3
        }
      ],
      "source": [
        "primes = {2, 3, 5, 7}\n",
        "odds = set(range(1,10,2))\n",
        "odds"
      ]
    },
    {
      "cell_type": "code",
      "execution_count": null,
      "metadata": {
        "id": "axtMbgHUeUk5"
      },
      "outputs": [],
      "source": [
        "primes | odds"
      ]
    },
    {
      "cell_type": "code",
      "execution_count": null,
      "metadata": {
        "id": "fB6h0Ov8eUk5"
      },
      "outputs": [],
      "source": [
        "primes & odds"
      ]
    },
    {
      "cell_type": "code",
      "execution_count": null,
      "metadata": {
        "id": "HeQUv4YJeUk5"
      },
      "outputs": [],
      "source": [
        "odds - primes"
      ]
    },
    {
      "cell_type": "markdown",
      "metadata": {
        "id": "gQS7lbP9eUk5"
      },
      "source": [
        "**Q1: Can you write 1-line of code to count the number of integers from 0 to 10 that are prime and even?**"
      ]
    },
    {
      "cell_type": "code",
      "execution_count": null,
      "metadata": {
        "id": "ngmox-6IeUk5"
      },
      "outputs": [],
      "source": [
        "# Solution Q1:\n"
      ]
    },
    {
      "cell_type": "markdown",
      "metadata": {
        "id": "BoMUo7KEeUk8"
      },
      "source": [
        "<h2><center> Arrays </center></h2>"
      ]
    },
    {
      "cell_type": "code",
      "execution_count": null,
      "metadata": {
        "id": "WXgmUzVyeUk8"
      },
      "outputs": [],
      "source": [
        "# Create a NumPy array from a Python list:\n",
        "import numpy as np\n",
        "list_of_numbers = [10,11,12,13,14,15,16,17,18]\n"
      ]
    },
    {
      "cell_type": "code",
      "execution_count": null,
      "metadata": {
        "id": "HqIX_flOeUk8",
        "outputId": "5112ed58-4d66-4ce5-8e66-120f3bab176f",
        "colab": {
          "base_uri": "https://localhost:8080/"
        }
      },
      "outputs": [
        {
          "output_type": "execute_result",
          "data": {
            "text/plain": [
              "array([10, 11, 12, 13, 14, 15, 16, 17, 18])"
            ]
          },
          "metadata": {},
          "execution_count": 4
        }
      ],
      "source": [
        "# Create a NumPy array with the NumPy method np.arange between 10-19\n",
        "\n"
      ]
    },
    {
      "cell_type": "code",
      "execution_count": null,
      "metadata": {
        "id": "-pcO2qqpeUk9",
        "outputId": "9a2680f1-074e-438a-b588-95296bdde9bb",
        "colab": {
          "base_uri": "https://localhost:8080/"
        }
      },
      "outputs": [
        {
          "output_type": "stream",
          "name": "stdout",
          "text": [
            "(9,)\n"
          ]
        }
      ],
      "source": [
        "print(numpy_array_of_numbers.shape,another_numpy_array.shape)"
      ]
    },
    {
      "cell_type": "markdown",
      "metadata": {
        "id": "fjrKYUZDeUk9"
      },
      "source": [
        "**Q1: Can you make a numpy array of only even numbers between 10 and 20 (inclusive), without using a loop?**"
      ]
    },
    {
      "cell_type": "code",
      "execution_count": null,
      "metadata": {
        "id": "wYNLRvCzeUk9",
        "outputId": "1976162e-600b-4d9f-8795-ce59bc77f720"
      },
      "outputs": [
        {
          "data": {
            "text/plain": [
              "array([10, 12, 14, 16, 18, 20])"
            ]
          },
          "execution_count": 5,
          "metadata": {},
          "output_type": "execute_result"
        }
      ],
      "source": [
        "# Solution to Q1\n"
      ]
    },
    {
      "cell_type": "markdown",
      "metadata": {
        "id": "Jy2bjB4ZeUk9"
      },
      "source": [
        "<h2><center> Indexing and slicing </center></h2>"
      ]
    },
    {
      "cell_type": "code",
      "execution_count": null,
      "metadata": {
        "id": "2Kk4AJwFeUk9",
        "outputId": "5cedaa22-ae76-448d-b399-6d5cf081a241"
      },
      "outputs": [
        {
          "data": {
            "text/plain": [
              "array([20, 21, 22, 23, 24, 25, 26, 27, 28, 29])"
            ]
          },
          "execution_count": 6,
          "metadata": {},
          "output_type": "execute_result"
        }
      ],
      "source": [
        "yet_another_numpy_array = np.array([20,21,22,23,24,25,26,27,28,29])\n",
        "yet_another_numpy_array"
      ]
    },
    {
      "cell_type": "code",
      "execution_count": null,
      "metadata": {
        "id": "1ENhq1xzeUk9"
      },
      "outputs": [],
      "source": [
        "yet_another_numpy_array[5]"
      ]
    },
    {
      "cell_type": "code",
      "execution_count": null,
      "metadata": {
        "id": "P302XPdXeUk9"
      },
      "outputs": [],
      "source": [
        "yet_another_numpy_array[3:]"
      ]
    },
    {
      "cell_type": "code",
      "execution_count": null,
      "metadata": {
        "id": "B7L30E0heUk9"
      },
      "outputs": [],
      "source": [
        "yet_another_numpy_array[:-2]"
      ]
    },
    {
      "cell_type": "code",
      "execution_count": null,
      "metadata": {
        "id": "SRVWyN4HeUk9"
      },
      "outputs": [],
      "source": [
        "yet_another_numpy_array[[True,True,True,True,False,False,False,False,False,False]] #boolean array as mask"
      ]
    },
    {
      "cell_type": "code",
      "execution_count": null,
      "metadata": {
        "id": "Pkj6QkF1eUk9"
      },
      "outputs": [],
      "source": [
        "yet_another_numpy_array[yet_another_numpy_array > 24] #boolean array as mask"
      ]
    },
    {
      "cell_type": "code",
      "execution_count": null,
      "metadata": {
        "id": "LJUVssAneUk9"
      },
      "outputs": [],
      "source": [
        "yet_another_numpy_array[[0,4,5]] #fancy indexing"
      ]
    },
    {
      "cell_type": "markdown",
      "metadata": {
        "id": "1UzReWfheUk9"
      },
      "source": [
        "**Q2: How would you select only values between the \"4th from last\" to the \"2nd from last\" entries of this array?**"
      ]
    },
    {
      "cell_type": "code",
      "execution_count": null,
      "metadata": {
        "id": "ll5s8YtNeUk-",
        "outputId": "b9a5c502-96c6-496e-c51f-976732fe57d3"
      },
      "outputs": [
        {
          "data": {
            "text/plain": [
              "array([26, 27])"
            ]
          },
          "execution_count": 13,
          "metadata": {},
          "output_type": "execute_result"
        }
      ],
      "source": [
        "#Solution to Q2\n",
        "\n"
      ]
    },
    {
      "cell_type": "code",
      "execution_count": null,
      "metadata": {
        "id": "kslS3niOpj3g",
        "outputId": "5353f530-3a34-48ac-8c38-e62fdb8e427d"
      },
      "outputs": [
        {
          "name": "stdout",
          "output_type": "stream",
          "text": [
            "[[['John' 'Ron' 'Sean']\n",
            "  ['Margaret' 'Rachel' 'Jim']\n",
            "  ['Angel' 'Joey' 'Tom']]\n",
            "\n",
            " [['Max' 'Maxine' 'Richard']\n",
            "  ['Barton ' 'Flynn' 'Simon']\n",
            "  ['Bob' 'Leo' 'Kimn']]\n",
            "\n",
            " [['Wayne' 'Sarah' 'Lucy']\n",
            "  ['Lucy' 'Kurtis' 'Yu']\n",
            "  ['Jack' 'Lex' 'Alex']]]\n"
          ]
        }
      ],
      "source": [
        "array1 = np.array([[[\"John\", \"Ron\", \"Sean\"],\n",
        "                  [\"Margaret\", \"Rachel\", \"Jim\"],\n",
        "                  [\"Angel\", \"Joey\", \"Tom\"]],\n",
        "\n",
        "                 [[\"Max\", \"Maxine\", \"Richard\"],\n",
        "                  [\"Barton \", \"Flynn\", \"Simon\"],\n",
        "                  [\"Bob\", \"Leo\", \"Kimn\"]],\n",
        "\n",
        "                 [[\"Wayne\", \"Sarah\", \"Lucy\"],\n",
        "                  [\"Lucy\", \"Kurtis\", \"Yu\"],\n",
        "                  [\"Jack\", \"Lex\", \"Alex\"]]])\n",
        "print(array1)"
      ]
    },
    {
      "cell_type": "code",
      "execution_count": null,
      "metadata": {
        "id": "dg6AS5X7pj3h"
      },
      "outputs": [],
      "source": [
        "array1.shape"
      ]
    },
    {
      "cell_type": "code",
      "execution_count": null,
      "metadata": {
        "id": "KsgXwqtmpj3h"
      },
      "outputs": [],
      "source": [
        "array1.size"
      ]
    },
    {
      "cell_type": "markdown",
      "source": [
        "**General Access Syntax:** array1[block_index][row_index][column_index]\n"
      ],
      "metadata": {
        "id": "XobO4KAvLk2x"
      }
    },
    {
      "cell_type": "code",
      "execution_count": null,
      "metadata": {
        "outputId": "a3948c52-2003-4386-928b-44ecb49dad3b",
        "colab": {
          "base_uri": "https://localhost:8080/"
        },
        "id": "eiMH27Nvd3wT"
      },
      "outputs": [
        {
          "output_type": "stream",
          "name": "stdout",
          "text": [
            "[[['John' 'Ron' 'Sean']\n",
            "  ['Margaret' 'Rachel' 'Jim']\n",
            "  ['Angel' 'Joey' 'Tom']]\n",
            "\n",
            " [['Max' 'Maxine' 'Richard']\n",
            "  ['Barton ' 'Flynn' 'Simon']\n",
            "  ['Bob' 'Leo' 'Kimn']]\n",
            "\n",
            " [['Wayne' 'Sarah' 'Lucy']\n",
            "  ['Lucy' 'Kurtis' 'Yu']\n",
            "  ['Jack' 'Lex' 'Alex']]]\n"
          ]
        }
      ],
      "source": [
        "array1 = np.array([[[\"John\", \"Ron\", \"Sean\"],\n",
        "                  [\"Margaret\", \"Rachel\", \"Jim\"],\n",
        "                  [\"Angel\", \"Joey\", \"Tom\"]],\n",
        "\n",
        "                 [[\"Max\", \"Maxine\", \"Richard\"],\n",
        "                  [\"Barton \", \"Flynn\", \"Simon\"],\n",
        "                  [\"Bob\", \"Leo\", \"Kimn\"]],\n",
        "\n",
        "                 [[\"Wayne\", \"Sarah\", \"Lucy\"],\n",
        "                  [\"Lucy\", \"Kurtis\", \"Yu\"],\n",
        "                  [\"Jack\", \"Lex\", \"Alex\"]]])\n",
        "print(array1)"
      ]
    },
    {
      "cell_type": "code",
      "execution_count": null,
      "metadata": {
        "id": "-PLI48F_d3wU"
      },
      "outputs": [],
      "source": [
        "array1.shape"
      ]
    },
    {
      "cell_type": "code",
      "execution_count": null,
      "metadata": {
        "id": "hcmv5I8Wd3wU"
      },
      "outputs": [],
      "source": [
        "array1.size"
      ]
    },
    {
      "cell_type": "markdown",
      "source": [
        "**Accessing Individual element**"
      ],
      "metadata": {
        "id": "Lf_vM0pdeDU-"
      }
    },
    {
      "cell_type": "code",
      "source": [
        "# First element of the first block\n",
        "print(array1[0][0][0])\n",
        "\n",
        "# Middle element of the second row in the second block\n",
        "print(array1[1][1][1])\n",
        "\n",
        "#Last element of the last block\n",
        "print(array1[2][2][2])\n"
      ],
      "metadata": {
        "id": "TQI2IAx8MLef"
      },
      "execution_count": null,
      "outputs": []
    },
    {
      "cell_type": "markdown",
      "source": [
        "**Accessing Entire Rows**"
      ],
      "metadata": {
        "id": "hZBGE0nzYlN5"
      }
    },
    {
      "cell_type": "code",
      "source": [
        "# Entire first row of the first block\n",
        "print(array1[0][0])\n",
        "\n",
        "# Entire second row of the third block\n",
        "print(array1[2][1])"
      ],
      "metadata": {
        "id": "ii5dGloVYYtS"
      },
      "execution_count": null,
      "outputs": []
    },
    {
      "cell_type": "markdown",
      "source": [
        "**Accessing Entire Blocks**"
      ],
      "metadata": {
        "id": "qwbPRs9WZVV7"
      }
    },
    {
      "cell_type": "code",
      "source": [
        "#Entire third block:\n",
        "print(array1 [2])\n",
        "print(array1[0])\n"
      ],
      "metadata": {
        "id": "J1RG2FBUZczm"
      },
      "execution_count": null,
      "outputs": []
    },
    {
      "cell_type": "markdown",
      "source": [
        "**Slicing the Array**"
      ],
      "metadata": {
        "id": "iYnqM6E5aUAN"
      }
    },
    {
      "cell_type": "code",
      "source": [
        "#Access the first column of each row from the third block:\n",
        "array1[2, :, 0]"
      ],
      "metadata": {
        "id": "xJ_DJjT0agtN"
      },
      "execution_count": null,
      "outputs": []
    },
    {
      "cell_type": "code",
      "source": [
        "# Access all names from the second column of each row across all blocks:\n",
        "array1[:, :, 1]"
      ],
      "metadata": {
        "id": "ux-XtPLyawzd"
      },
      "execution_count": null,
      "outputs": []
    },
    {
      "cell_type": "markdown",
      "source": [
        "**Fancy Indexing:**"
      ],
      "metadata": {
        "id": "crFf8R85c1YM"
      }
    },
    {
      "cell_type": "code",
      "source": [
        "#You can also access specific elements from different locations using a list of indices.\n",
        "array1[[0, 1], [0, 1], [0, 1]]"
      ],
      "metadata": {
        "id": "Lhk-uajtcBrk"
      },
      "execution_count": null,
      "outputs": []
    },
    {
      "cell_type": "markdown",
      "metadata": {
        "id": "5_9YE8XvjTRu"
      },
      "source": [
        "**Q3: How would you select only values of the last row starting from Wayne up to Alez?**"
      ]
    },
    {
      "cell_type": "code",
      "execution_count": null,
      "metadata": {
        "id": "TB_z9J6Cpj3h",
        "outputId": "1d091064-ef0c-44fd-e7a9-d7a34ceef73f"
      },
      "outputs": [
        {
          "name": "stdout",
          "output_type": "stream",
          "text": [
            "['Barton ' 'Flynn' 'Simon']\n"
          ]
        }
      ],
      "source": [
        "#Solution to Q3\n"
      ]
    },
    {
      "cell_type": "markdown",
      "metadata": {
        "id": "7gRixi4fjTRu"
      },
      "source": [
        "**Q4: How would you select Middle column, all rows, but don't flatten; keep matrix shape**"
      ]
    },
    {
      "cell_type": "code",
      "execution_count": null,
      "metadata": {
        "id": "4XrRKBG-pj3h",
        "outputId": "a9cc8aec-f969-47c3-8805-2d72e40b3dbd"
      },
      "outputs": [
        {
          "name": "stdout",
          "output_type": "stream",
          "text": [
            "[[['Margaret' 'Rachel' 'Jim']]\n",
            "\n",
            " [['Barton ' 'Flynn' 'Simon']]\n",
            "\n",
            " [['Lucy' 'Kurtis' 'Yu']]]\n"
          ]
        }
      ],
      "source": [
        "#Solution to Q4\n",
        "# When a list is used for choosing the column, the dimension is kept\n"
      ]
    },
    {
      "cell_type": "markdown",
      "metadata": {
        "id": "MOzmqI1hpj3h"
      },
      "source": [
        "### switch the [row,column]"
      ]
    },
    {
      "cell_type": "code",
      "execution_count": null,
      "metadata": {
        "id": "j_YmhryweUk-",
        "outputId": "8a210e39-87c9-40d3-8f8f-d9f2b0f7fca6"
      },
      "outputs": [
        {
          "data": {
            "text/plain": [
              "array([[11, 12],\n",
              "       [13, 14]])"
            ]
          },
          "execution_count": 20,
          "metadata": {},
          "output_type": "execute_result"
        }
      ],
      "source": [
        "a_numpy_2d_array = np.array([[11,12],[13,14]])\n",
        "a_numpy_2d_array"
      ]
    },
    {
      "cell_type": "code",
      "execution_count": null,
      "metadata": {
        "id": "moLqbKd7eUk-",
        "outputId": "d286d648-599f-4e37-8c14-969b46857f1a"
      },
      "outputs": [
        {
          "data": {
            "text/plain": [
              "array([11, 13])"
            ]
          },
          "execution_count": 22,
          "metadata": {},
          "output_type": "execute_result"
        }
      ],
      "source": [
        "a_numpy_2d_array[:,0]"
      ]
    },
    {
      "cell_type": "markdown",
      "metadata": {
        "id": "RupzPr5EeUk-"
      },
      "source": [
        "**Q5: Can you switch the [row,column] indices on this array?**"
      ]
    },
    {
      "cell_type": "code",
      "execution_count": null,
      "metadata": {
        "id": "-yYzb2xzeUk-",
        "outputId": "8c87cf90-4998-4df5-a232-d161b21139bf"
      },
      "outputs": [
        {
          "name": "stdout",
          "output_type": "stream",
          "text": [
            "[[11 13]\n",
            " [12 14]]\n",
            "[[11 13]\n",
            " [12 14]]\n"
          ]
        }
      ],
      "source": [
        "#Solution to Q5\n"
      ]
    },
    {
      "cell_type": "markdown",
      "metadata": {
        "id": "TwbXwPtGeUk_"
      },
      "source": [
        "<h2><center> Reshaping Arrays </center></h2>"
      ]
    },
    {
      "cell_type": "code",
      "execution_count": null,
      "metadata": {
        "id": "paWKwoDReUk_",
        "outputId": "e9a2f2b6-a4fb-4f71-b3ce-da0e3784df4d"
      },
      "outputs": [
        {
          "name": "stdout",
          "output_type": "stream",
          "text": [
            "[0 1 2 3 4 5 6 7 8]  Shape:  (9,)\n"
          ]
        }
      ],
      "source": [
        "numpy_digits_array = np.arange(0,9)\n",
        "print(numpy_digits_array, \" Shape: \", numpy_digits_array.shape)"
      ]
    },
    {
      "cell_type": "code",
      "execution_count": null,
      "metadata": {
        "id": "sW84nux4eUk_",
        "outputId": "cac671c5-2bc5-49cd-86eb-f1930f9724dd"
      },
      "outputs": [
        {
          "name": "stdout",
          "output_type": "stream",
          "text": [
            "[[0 1 2]\n",
            " [3 4 5]\n",
            " [6 7 8]]  Shape:  (3, 3)\n"
          ]
        }
      ],
      "source": [
        "numpy_digits_array_2D = numpy_digits_array.reshape([3,3])\n",
        "print(numpy_digits_array_2D, \" Shape: \", numpy_digits_array_2D.shape)"
      ]
    },
    {
      "cell_type": "code",
      "execution_count": null,
      "metadata": {
        "id": "UwYy9avteUk_",
        "outputId": "00ea968f-9096-4780-82c4-78e224e15bd1"
      },
      "outputs": [
        {
          "name": "stdout",
          "output_type": "stream",
          "text": [
            "[0 1 2 3 4 5 6 7 8]  Shape:  (9,)\n"
          ]
        }
      ],
      "source": [
        "numpy_digits_array_2D_back_to_1D = numpy_digits_array_2D.reshape(-1)\n",
        "print(numpy_digits_array_2D_back_to_1D, \" Shape: \", numpy_digits_array_2D_back_to_1D.shape)"
      ]
    },
    {
      "cell_type": "markdown",
      "metadata": {
        "id": "-2jtaXVceUk_"
      },
      "source": [
        "<h2><center> Arithmetic </center></h2>"
      ]
    },
    {
      "cell_type": "code",
      "execution_count": null,
      "metadata": {
        "id": "5IN8YF0geUk_",
        "outputId": "892991f1-7747-40fd-dd80-d9b53661b26e"
      },
      "outputs": [
        {
          "name": "stdout",
          "output_type": "stream",
          "text": [
            "a:\n",
            " [[10 11]\n",
            " [12 13]]\n",
            "b:\n",
            " [[ 1 -1]\n",
            " [-1  1]]\n"
          ]
        }
      ],
      "source": [
        "a = np.array([[10,11],[12,13]])\n",
        "b = np.array([[1,-1],[-1,1]])\n",
        "print(\"a:\\n\", a)\n",
        "print(\"b:\\n\", b)"
      ]
    },
    {
      "cell_type": "code",
      "execution_count": null,
      "metadata": {
        "id": "I3RyuC5_eUk_"
      },
      "outputs": [],
      "source": [
        "print(\"a*b:\\n\", a*b)\n",
        "print(\"a+b:\\n\", a+b)"
      ]
    },
    {
      "cell_type": "code",
      "execution_count": null,
      "metadata": {
        "id": "tu1ijaWzeUk_"
      },
      "outputs": [],
      "source": [
        "print(\"Matrix multiplication of a and b:\\n\",np.matmul(a,b))"
      ]
    },
    {
      "cell_type": "code",
      "execution_count": null,
      "metadata": {
        "id": "HOrFYltPeUlA",
        "outputId": "ea88c38d-501f-4eb9-af97-b2d1c1ca4802"
      },
      "outputs": [
        {
          "data": {
            "text/plain": [
              "46"
            ]
          },
          "execution_count": 32,
          "metadata": {},
          "output_type": "execute_result"
        }
      ],
      "source": [
        "np.sum(a)"
      ]
    },
    {
      "cell_type": "code",
      "execution_count": null,
      "metadata": {
        "id": "cTX7fnuteUlA"
      },
      "outputs": [],
      "source": [
        "print(a)\n",
        "print(\"Sum all entries: \", np.sum(a))\n",
        "print(\"Sum along lines: \", np.sum(a, axis=1))\n",
        "print(\"Sum along columns: \", np.sum(a, axis=0))\n",
        "\n",
        "#axis: the dimension of the array that will be colapsed"
      ]
    },
    {
      "cell_type": "markdown",
      "metadata": {
        "id": "sgDzQELteUlA"
      },
      "source": [
        "**Q7: Axis are important: Can you get the maximum over columns of these matrices? And the minimum over lines?**"
      ]
    },
    {
      "cell_type": "code",
      "source": [
        "import numpy as np\n",
        "a_numpy_2d_array = np.array([[11,12],[13,14]])\n",
        "a_numpy_2d_array"
      ],
      "metadata": {
        "colab": {
          "base_uri": "https://localhost:8080/"
        },
        "id": "PThwZh0ii44E",
        "outputId": "d8a00137-28e0-47d6-cd34-2e6e266be23f"
      },
      "execution_count": 2,
      "outputs": [
        {
          "output_type": "execute_result",
          "data": {
            "text/plain": [
              "array([[11, 12],\n",
              "       [13, 14]])"
            ]
          },
          "metadata": {},
          "execution_count": 2
        }
      ]
    },
    {
      "cell_type": "code",
      "execution_count": null,
      "metadata": {
        "id": "8-Bd0lRveUlA",
        "outputId": "625a843d-1203-4f35-ee8e-e67ed4cd0358"
      },
      "outputs": [
        {
          "name": "stdout",
          "output_type": "stream",
          "text": [
            "Max along lines:  [11 13]\n",
            "Min along columns:  [10 11]\n"
          ]
        }
      ],
      "source": [
        "# Solution to Q7\n",
        "\n"
      ]
    },
    {
      "cell_type": "markdown",
      "metadata": {
        "id": "LORq1swFeUlA"
      },
      "source": [
        "<h1><center> Broadcasting </center></h1>"
      ]
    },
    {
      "cell_type": "code",
      "execution_count": null,
      "metadata": {
        "id": "j0ZIRhtweUlA",
        "outputId": "6dea72a5-c641-4d27-b2d2-f86077673a33"
      },
      "outputs": [
        {
          "name": "stdout",
          "output_type": "stream",
          "text": [
            "[2. 4. 6.]    [ 7.  8.  9. 10.]\n"
          ]
        }
      ],
      "source": [
        "a = np.array([2.0, 4.0, 6.0])\n",
        "b = np.array([7.0, 8.0, 9.0, 10.0])\n",
        "print(a,\"  \",b)"
      ]
    },
    {
      "cell_type": "code",
      "execution_count": null,
      "metadata": {
        "id": "73h46y7beUlA",
        "outputId": "08f9d546-10b8-4877-f558-62e21221b9d1"
      },
      "outputs": [
        {
          "ename": "ValueError",
          "evalue": "operands could not be broadcast together with shapes (3,) (4,) ",
          "output_type": "error",
          "traceback": [
            "\u001b[1;31m---------------------------------------------------------------------------\u001b[0m",
            "\u001b[1;31mValueError\u001b[0m                                Traceback (most recent call last)",
            "Cell \u001b[1;32mIn[36], line 1\u001b[0m\n\u001b[1;32m----> 1\u001b[0m \u001b[43ma\u001b[49m\u001b[38;5;241;43m+\u001b[39;49m\u001b[43mb\u001b[49m\n",
            "\u001b[1;31mValueError\u001b[0m: operands could not be broadcast together with shapes (3,) (4,) "
          ]
        }
      ],
      "source": [
        "a+b\n",
        "\n",
        "# Error? Understand why..."
      ]
    }
  ]
}